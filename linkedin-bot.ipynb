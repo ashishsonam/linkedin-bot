{
 "cells": [
  {
   "cell_type": "code",
   "execution_count": 247,
   "metadata": {},
   "outputs": [],
   "source": [
    "import os, random, sys, time\n",
    "from selenium import webdriver\n",
    "from selenium.webdriver.common.by import By\n",
    "from bs4 import BeautifulSoup"
   ]
  },
  {
   "cell_type": "code",
   "execution_count": 248,
   "metadata": {},
   "outputs": [],
   "source": [
    "driver = webdriver.Chrome('chromedriver')"
   ]
  },
  {
   "cell_type": "code",
   "execution_count": 249,
   "metadata": {},
   "outputs": [],
   "source": [
    "driver.get('https://www.linkedin.com/uas/login')"
   ]
  },
  {
   "cell_type": "code",
   "execution_count": 250,
   "metadata": {},
   "outputs": [],
   "source": [
    "file = open('config.txt')\n",
    "lines = file.readlines()\n",
    "username = lines[0]\n",
    "password = lines[1]"
   ]
  },
  {
   "cell_type": "code",
   "execution_count": 251,
   "metadata": {},
   "outputs": [],
   "source": [
    "ipUser = driver.find_element(By.ID, 'username')\n",
    "ipPassword = driver.find_element(By.ID, 'password')\n",
    "ipUser.send_keys(username)\n",
    "ipPassword.send_keys(password)"
   ]
  },
  {
   "cell_type": "code",
   "execution_count": 252,
   "metadata": {},
   "outputs": [],
   "source": [
    "ipPassword.submit()"
   ]
  },
  {
   "cell_type": "code",
   "execution_count": 294,
   "metadata": {},
   "outputs": [],
   "source": [
    "visitingProfileID = '/in/diksha-gautam-828034182/'\n",
    "fullLink = 'https://www.linkedin.com' + visitingProfileID\n",
    "driver.get(fullLink)"
   ]
  },
  {
   "cell_type": "code",
   "execution_count": 295,
   "metadata": {},
   "outputs": [],
   "source": [
    "visitedProfiles = []\n",
    "profilesQueued = []"
   ]
  },
  {
   "cell_type": "code",
   "execution_count": 296,
   "metadata": {},
   "outputs": [],
   "source": [
    "def getNewProfileIDs(soup, profilesQueued):\n",
    "    profilesID = []\n",
    "    pav = soup.find('section', {'class': 'artdeco-card ember-view mt2'})\n",
    "    # print(pav)\n",
    "    all_links = pav.findAll('a', {'class': 'ember-view display-flex link-without-hover-visited'})\n",
    "    for link in all_links:\n",
    "        userID = link.get('href')\n",
    "        if((userID not in profilesQueued) and (userID not in visitedProfiles)):\n",
    "            profilesID.append(userID)\n",
    "    return profilesID"
   ]
  },
  {
   "cell_type": "code",
   "execution_count": 297,
   "metadata": {},
   "outputs": [
    {
     "data": {
      "text/plain": [
       "['/in/anukriti-verma-19a592190/',\n",
       " '/in/kumar-vidit-99647b167/',\n",
       " '/in/amol-madan-339261208/',\n",
       " '/in/jitendra-singh-88332814b/',\n",
       " '/in/neha-singh-3803111b6/']"
      ]
     },
     "execution_count": 297,
     "metadata": {},
     "output_type": "execute_result"
    }
   ],
   "source": [
    "getNewProfileIDs(BeautifulSoup(driver.page_source), profilesQueued)"
   ]
  },
  {
   "cell_type": "code",
   "execution_count": 298,
   "metadata": {},
   "outputs": [],
   "source": [
    "profilesQueued = getNewProfileIDs(BeautifulSoup(driver.page_source), profilesQueued)"
   ]
  },
  {
   "cell_type": "code",
   "execution_count": 299,
   "metadata": {},
   "outputs": [
    {
     "name": "stdout",
     "output_type": "stream",
     "text": [
      "no connect button\n",
      "connection sent\n",
      "no connect button\n",
      "no connect button\n",
      "no connect button\n",
      "no connect button\n",
      "Continue\n",
      "no connect button\n"
     ]
    }
   ],
   "source": [
    "while profilesQueued:\n",
    "    try:\n",
    "        visitingProfileID = profilesQueued.pop()\n",
    "        visitedProfiles.append(visitingProfileID)\n",
    "        \n",
    "        fullLink = 'https://www.linkedin.com' + visitingProfileID\n",
    "        driver.get(fullLink)\n",
    "        try:\n",
    "            driver.find_elements(By.CLASS_NAME, 'artdeco-button__text')[5].click()\n",
    "\n",
    "            driver.find_elements(By.CLASS_NAME, 'artdeco-button__text')[2].click()\n",
    "            # print(button)\n",
    "\n",
    "            # add custom note\n",
    "\n",
    "            # driver.find_element_by_class_name('mr1').click()\n",
    "\n",
    "            # customMessage = \"Hi, would love to have a chat with you.\"\n",
    "            # elementID = driver.find_element_by_id('custom-message')\n",
    "            # elementID.send_keys(customMessage)\n",
    "\n",
    "            # driver.find_element(By.XPATH, '/html/body/div[3]/div/div/div[3]/button[2]/span').click()\n",
    "            print('connection sent')\n",
    "        except:\n",
    "            print('no connect button')\n",
    "\n",
    "\n",
    "        with open('visitedUsers.txt', 'a') as visitedUsersFile:\n",
    "            visitedUsersFile.write(str(visitingProfileID)+'\\n')\n",
    "        visitedUsersFile.close()\n",
    "\n",
    "        soup = BeautifulSoup(driver.page_source)\n",
    "\n",
    "        try: \n",
    "            profilesQueued.extend(getNewProfileIDs(soup, profilesQueued))\n",
    "        except:\n",
    "            print('Continue')\n",
    "\n",
    "\n",
    "        time.sleep(random.uniform(3, 7)) \n",
    "\n",
    "        if(len(visitedProfiles)%50==0):\n",
    "            print('Visited Profiles: ', len(visitedProfiles))\n",
    "\n",
    "        if(len(profilesQueued)>1000):\n",
    "            with open('profilesQueued.txt', 'a') as visitedUsersFile:\n",
    "                visitedUsersFile.write(str(visitingProfileID)+'\\n')\n",
    "            visitedUsersFile.close()\n",
    "            break;\n",
    "    except:\n",
    "        print('error')"
   ]
  },
  {
   "cell_type": "code",
   "execution_count": null,
   "metadata": {},
   "outputs": [],
   "source": []
  }
 ],
 "metadata": {
  "kernelspec": {
   "display_name": "Python 3.8.10 64-bit",
   "language": "python",
   "name": "python3"
  },
  "language_info": {
   "codemirror_mode": {
    "name": "ipython",
    "version": 3
   },
   "file_extension": ".py",
   "mimetype": "text/x-python",
   "name": "python",
   "nbconvert_exporter": "python",
   "pygments_lexer": "ipython3",
   "version": "3.8.10"
  },
  "orig_nbformat": 4,
  "vscode": {
   "interpreter": {
    "hash": "916dbcbb3f70747c44a77c7bcd40155683ae19c65e1c03b4aa3499c5328201f1"
   }
  }
 },
 "nbformat": 4,
 "nbformat_minor": 2
}
